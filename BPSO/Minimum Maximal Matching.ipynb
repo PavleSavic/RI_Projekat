{
 "cells": [
  {
   "cell_type": "code",
   "execution_count": 366,
   "id": "extreme-botswana",
   "metadata": {},
   "outputs": [],
   "source": [
    "import random\n",
    "import numpy as np\n",
    "import math\n",
    "import matplotlib.pyplot as plt\n",
    "import networkx as nx\n",
    "import copy\n",
    "from itertools import chain, combinations   "
   ]
  },
  {
   "cell_type": "code",
   "execution_count": 367,
   "id": "secure-threat",
   "metadata": {},
   "outputs": [],
   "source": [
    "class Vertex:\n",
    "    def __init__(self, name):\n",
    "        self.name = name"
   ]
  },
  {
   "cell_type": "code",
   "execution_count": 368,
   "id": "another-solid",
   "metadata": {},
   "outputs": [
    {
     "name": "stdout",
     "output_type": "stream",
     "text": [
      "  A B C D E F G \n",
      "A 0 1 1 0 0 0 0 \n",
      "B 1 0 0 1 1 0 0 \n",
      "C 1 0 0 1 0 0 0 \n",
      "D 0 1 1 0 1 1 0 \n",
      "E 0 1 0 1 0 0 0 \n",
      "F 0 0 0 1 0 0 1 \n",
      "G 0 0 0 0 0 1 0 \n",
      "['AB', 'AC', 'BD', 'BE', 'CD', 'DE', 'DF', 'FG']\n"
     ]
    },
    {
     "data": {
      "image/png": "[encoded data removed]",
      "text/plain": [
       "<Figure size 432x288 with 1 Axes>"
      ]
     },
     "metadata": {},
     "output_type": "display_data"
    }
   ],
   "source": [
    "def get_key(d, val):\n",
    "    for key, value in d.items():\n",
    "         if val == value:\n",
    "            return key\n",
    "    return None\n",
    "\n",
    "\n",
    "class Graph:\n",
    "        \n",
    "    def __init__(self, num_of_vertices):\n",
    "        self.vertices = {}\n",
    "        self.adj_matrix = []\n",
    "        self.vertex_indices = {}\n",
    "        for i in range(ord('A'), ord('A') + num_of_vertices):\n",
    "            self.add_vertex(Vertex(chr(i)))\n",
    "              \n",
    "    \n",
    "    def add_vertex(self, vertex):\n",
    "        if vertex.name not in self.vertices:\n",
    "            self.vertices[vertex.name] = vertex\n",
    "            for row in self.adj_matrix:\n",
    "                row.append(0)\n",
    "            self.adj_matrix.append([0] * (len(self.adj_matrix) + 1))\n",
    "            self.vertex_indices[vertex.name] = len(self.vertex_indices)\n",
    "            return True\n",
    "        else:\n",
    "            return False\n",
    "    \n",
    "    def add_edge(self, edge):\n",
    "        u = edge[:1]\n",
    "        v = edge[1:]\n",
    "        if u in self.vertices and v in self.vertices:\n",
    "            self.adj_matrix[self.vertex_indices[u]][self.vertex_indices[v]] = 1;\n",
    "            self.adj_matrix[self.vertex_indices[v]][self.vertex_indices[u]] = 1;\n",
    "            return True\n",
    "        else:\n",
    "            return False\n",
    "        \n",
    "        \n",
    "    def get_edges(self):\n",
    "        edges = []\n",
    "        offset = 1\n",
    "        for u in range(len(self.adj_matrix)-1):\n",
    "            for v in range(offset, len(self.adj_matrix[0])):\n",
    "                if self.adj_matrix[u][v] == 1:\n",
    "                    vertex1 = get_key(self.vertex_indices, u)\n",
    "                    vertex2 = get_key(self.vertex_indices, v)\n",
    "                    edges.append(vertex1+vertex2)                \n",
    "            offset += 1\n",
    "        return edges\n",
    "        \n",
    "        \n",
    "    def print_graph(self):\n",
    "        print('  ', end = '')\n",
    "        for v in self.vertex_indices:\n",
    "            print(v, end=' ')\n",
    "        print()\n",
    "        \n",
    "        for v, i in sorted(self.vertex_indices.items()):\n",
    "            print(v, end = ' ')\n",
    "            for j in range(len(self.adj_matrix)):\n",
    "                print(self.adj_matrix[i][j], end = ' ')\n",
    "            print()\n",
    "              \n",
    "    def draw_graph(self):\n",
    "        H = nx.from_numpy_matrix(np.array(self.adj_matrix))\n",
    "    \n",
    "        labeldict = {}\n",
    "        for v, i in sorted(self.vertex_indices.items()):\n",
    "            labeldict[i] = v\n",
    "            \n",
    "        nx.draw(H, labels = labeldict, with_labels=True)\n",
    "                    \n",
    "            \n",
    "g = Graph(7)   \n",
    "edges = set(['AB', 'AC', 'BD', 'BE', 'CD', 'DE', 'DF', 'FG'])\n",
    "for edge in edges:\n",
    "    g.add_edge(edge)\n",
    "\n",
    "g.print_graph()\n",
    "g.draw_graph()\n",
    "print(g.get_edges())"
   ]
  },
  {
   "cell_type": "code",
   "execution_count": 369,
   "id": "federal-ethnic",
   "metadata": {},
   "outputs": [],
   "source": [
    "def is_maximal_matching(graph, edges):\n",
    "    graph_vertices = {k for k,v in graph.vertices.items()}\n",
    "    unused_vertices = copy.deepcopy(graph_vertices)\n",
    "    \n",
    "    # provera da li je matching\n",
    "    for e in edges:\n",
    "        # prvi cvor u grani\n",
    "        if e[:1] in graph_vertices:\n",
    "            if e[:1] in unused_vertices:\n",
    "                unused_vertices.remove(e[:1])\n",
    "            else:\n",
    "                # vec iskoriscen cvor (degV<=1, za svaki cvor)\n",
    "                return False\n",
    "        else:\n",
    "            # nepoznat cvor \n",
    "            return False\n",
    "        # drugi cvor u grani\n",
    "        if e[1:] in graph_vertices:\n",
    "            if e[1:] in unused_vertices:\n",
    "                unused_vertices.remove(e[1:])\n",
    "            else:\n",
    "                return False\n",
    "        else:\n",
    "            return False\n",
    "        \n",
    "        # da li je grana u grafu\n",
    "        if graph.adj_matrix[graph.vertex_indices[e[:1]]][graph.vertex_indices[e[1:]]] == 0:\n",
    "            return False\n",
    "        \n",
    "    # provera da li je maximal, da li moze da se doda jos neka grana a da ostane matching\n",
    "    for v in unused_vertices:\n",
    "        # red u matrici za taj cvor\n",
    "        neighbours_vector = graph.adj_matrix[graph.vertex_indices[v]] \n",
    "        for i in range(len(neighbours_vector)):\n",
    "            u = get_key(graph.vertex_indices, i)\n",
    "            if neighbours_vector[i] == 1 and u in unused_vertices and u!=v:     \n",
    "                return False\n",
    "            \n",
    "    return True"
   ]
  },
  {
   "cell_type": "code",
   "execution_count": 370,
   "id": "another-queensland",
   "metadata": {},
   "outputs": [
    {
     "data": {
      "text/plain": [
       "True"
      ]
     },
     "execution_count": 370,
     "metadata": {},
     "output_type": "execute_result"
    }
   ],
   "source": [
    "candidate = set(['BA', 'DC', 'GF'])\n",
    "is_maximal_matching(g, candidate)"
   ]
  },
  {
   "cell_type": "code",
   "execution_count": 371,
   "id": "damaged-briefs",
   "metadata": {},
   "outputs": [],
   "source": [
    "def powerset_generator(edges):\n",
    "      for subset in chain.from_iterable(combinations(edges, r) for r in range(len(edges)+1)):\n",
    "        yield set(subset)\n",
    "    "
   ]
  },
  {
   "cell_type": "code",
   "execution_count": 372,
   "id": "foster-stand",
   "metadata": {},
   "outputs": [],
   "source": [
    "def mmm_brute_force(graph):\n",
    "    for candidate in powerset_generator(graph.get_edges()):\n",
    "        if is_maximal_matching(graph, candidate):\n",
    "            break\n",
    " \n",
    "    return candidate"
   ]
  },
  {
   "cell_type": "code",
   "execution_count": 373,
   "id": "specialized-request",
   "metadata": {},
   "outputs": [
    {
     "name": "stdout",
     "output_type": "stream",
     "text": [
      "{'DF', 'AB'}\n"
     ]
    }
   ],
   "source": [
    "minimum_maximal_matching = mmm_brute_force(g)\n",
    "print(minimum_maximal_matching)"
   ]
  },
  {
   "cell_type": "code",
   "execution_count": 374,
   "id": "sunset-letter",
   "metadata": {},
   "outputs": [],
   "source": [
    "# bilo koji maximal matching je 2_aproksimacija\n",
    "def greedy_2_approximation(graph):\n",
    "    H = nx.from_numpy_matrix(np.array(graph.adj_matrix))\n",
    "    mmm_aprox = set()\n",
    "    for edge in nx.maximal_matching(H):\n",
    "        u = get_key(graph.vertex_indices, edge[0])\n",
    "        v = get_key(graph.vertex_indices, edge[1])\n",
    "        mmm_aprox.add(u+v)\n",
    "    return mmm_aprox"
   ]
  },
  {
   "cell_type": "code",
   "execution_count": 375,
   "id": "great-animal",
   "metadata": {},
   "outputs": [
    {
     "name": "stdout",
     "output_type": "stream",
     "text": [
      "{'CD', 'AB', 'FG'}\n"
     ]
    }
   ],
   "source": [
    "mmm_aprox = greedy_2_approximation(g)\n",
    "print(mmm_aprox)"
   ]
  },
  {
   "cell_type": "code",
   "execution_count": 376,
   "id": "bronze-monkey",
   "metadata": {},
   "outputs": [],
   "source": [
    "def from_binary_to_list_of_pairs(graph, position):\n",
    "    list_of_pairs = []\n",
    "    graph_edges = graph.get_edges()\n",
    "    for i in range(len(position)):\n",
    "        list_of_pairs.append((graph_edges[i], position[i]))                      \n",
    "    return list_of_pairs\n",
    "\n",
    "def from_binary_to_list_of_edges(graph,position):\n",
    "    list_of_edges = []\n",
    "    graph_edges = graph.get_edges()\n",
    "    for i in range(len(position)):\n",
    "        if position[i] == 1:\n",
    "            list_of_edges.append(graph_edges[i])              \n",
    "    return list_of_edges                    \n",
    "                             \n",
    "                             \n",
    "def calculate_fitness(graph, position):\n",
    "    list_of_pairs = from_binary_to_list_of_pairs(graph, position)\n",
    "    \n",
    "    unused_vertices = {k for k,v in graph.vertices.items()}\n",
    " \n",
    "    #problem: poziciona pristrasnost, grane koje dolaze leksikografski ispred ce biti verovatnije zadrzane\n",
    "    for i in range(len(list_of_pairs)):\n",
    "        if list_of_pairs[i][1] == 0:\n",
    "            continue                 \n",
    "        \n",
    "        # cvorovi u grani\n",
    "        a = list_of_pairs[i][0][:1]\n",
    "        b = list_of_pairs[i][0][1:]\n",
    "            \n",
    "        if a in unused_vertices and b in unused_vertices:\n",
    "            unused_vertices.remove(a)\n",
    "            unused_vertices.remove(b)         \n",
    "        else:\n",
    "            # neki od cvorova vec iskoriscen, izbaci granu\n",
    "            position[i] = 0\n",
    "            continue                 \n",
    "   \n",
    "    # ne moze da se istovremeno iterira i brise, mora kopija\n",
    "    unused_vertices_copy = unused_vertices.copy()\n",
    "    for v in unused_vertices_copy:\n",
    "        # dodatna provera\n",
    "        if v not in unused_vertices:\n",
    "            continue\n",
    "        neighbours_vector = graph.adj_matrix[graph.vertex_indices[v]]\n",
    "        # problem: uvek dodaje granu ka leksikografski prvom neiskoriscenom susedu kojeg pronadje\n",
    "        for i in range(len(neighbours_vector)):\n",
    "            u = get_key(graph.vertex_indices, i)                 \n",
    "            if neighbours_vector[i] == 1 and u in unused_vertices and u!=v:\n",
    "                # u listi su cvorovi u grani leksikografski sortirani\n",
    "                if u < v:\n",
    "                    edge_to_add = u+v\n",
    "                else:\n",
    "                    edge_to_add = v+u\n",
    "                edges_list = [a for (a,b) in list_of_pairs]\n",
    "                index = edges_list.index(edge_to_add)\n",
    "                position[index] = 1\n",
    "                unused_vertices.remove(v)\n",
    "                unused_vertices.remove(u)\n",
    "                # break unutrasnje petlje\n",
    "                break\n",
    "                \n",
    "    return sum(position)\n",
    "\n",
    "\n",
    "\n",
    "def calculate_fitness_v2(graph, position):\n",
    "    list_of_pairs = from_binary_to_list_of_pairs(graph, position)\n",
    "    # enumerate da bismo savucali originalne indekse grana u listi\n",
    "    list_of_pairs_enum = list(enumerate(list_of_pairs))\n",
    "    random.shuffle(list_of_pairs_enum)\n",
    "    \n",
    "    unused_vertices = {k for k,v in graph.vertices.items()}\n",
    "    #unused_vertices = [k for k,v in graph.vertices.items()]\n",
    "\n",
    "    for i in range(len(list_of_pairs_enum)):\n",
    "        if list_of_pairs_enum[i][1][1] == 0:\n",
    "            continue                 \n",
    "        \n",
    "        a = list_of_pairs_enum[i][1][0][:1]\n",
    "        b = list_of_pairs_enum[i][1][0][1:]\n",
    "            \n",
    "        if a in unused_vertices and b in unused_vertices:\n",
    "            unused_vertices.remove(a)\n",
    "            unused_vertices.remove(b)         \n",
    "        else:\n",
    "            position[list_of_pairs_enum[i][0]] = 0\n",
    "            continue                 \n",
    "   \n",
    "    #random.shuffle(unused_vertices)\n",
    "    unused_vertices_copy = unused_vertices.copy()\n",
    "    for v in unused_vertices_copy:\n",
    "        if v not in unused_vertices:\n",
    "            continue\n",
    "        neighbours_vector = graph.adj_matrix[graph.vertex_indices[v]]\n",
    "        # indeksi suseda ka kojima postoji grana i neiskorisceni su\n",
    "        indices = [index for index, element in enumerate(neighbours_vector) if element == 1 \n",
    "                   and get_key(graph.vertex_indices, index) in unused_vertices and get_key(graph.vertex_indices, index) != v]\n",
    "        \n",
    "        # ako nema takvih predji na sledeci\n",
    "        if not indices:\n",
    "            continue\n",
    "        \n",
    "        # slucajno odabrati jednog\n",
    "        chosed = random.choice(indices)\n",
    "        u = get_key(graph.vertex_indices, chosed)\n",
    "                 \n",
    "        if u < v:\n",
    "            edge_to_add = u+v\n",
    "        else:\n",
    "            edge_to_add = v+u\n",
    "            \n",
    "        edges_list = [a for (a,b) in list_of_pairs]\n",
    "        index = edges_list.index(edge_to_add)\n",
    "        position[index] = 1\n",
    "        unused_vertices.remove(v)\n",
    "        unused_vertices.remove(u)\n",
    "        \n",
    "                \n",
    "    return sum(position)\n",
    "\n",
    "\n",
    " \n",
    "def sigmoid(x):\n",
    "    return 1 / (1 + math.exp(-x))\n",
    "\n",
    "def determine(x):\n",
    "    rand_gen = random.uniform(0,1)\n",
    "    if rand_gen >= sigmoid(x):\n",
    "        return 0\n",
    "    else:\n",
    "        return 1\n",
    "\n",
    "class Particle:\n",
    "    globalBestPosition = None\n",
    "    globalBestValue = None\n",
    "     \n",
    "    def __init__(self, graph, fitness_func, phi, velocity_bounds):\n",
    "        \n",
    "        self.graph = graph\n",
    "        self.fitness_func = fitness_func\n",
    "    \n",
    "        pos = []\n",
    "        for i in range(len(self.graph.get_edges())):\n",
    "            pos.append(random.randint(0,1))\n",
    "                \n",
    "        self.position = np.array(pos)\n",
    "        self.velocity = np.zeros(len(self.position))\n",
    "        self.currValue = self.fitness_func(self.graph, self.position)                     \n",
    "        self.bestPosition = np.array(self.position)\n",
    "        self.bestValue = self.currValue\n",
    "                             \n",
    "        if Particle.globalBestValue is None or self.currValue < Particle.globalBestValue:\n",
    "            Particle.globalBestPosition = np.array(self.position)\n",
    "            Particle.globalBestValue = self.currValue     \n",
    "        \n",
    "        self.velocity_bounds = [velocity_bounds for pos in self.position]\n",
    "        self.w = 1 / ((phi - 1) + math.sqrt(phi**2 - 2*phi))\n",
    "        self.c1 = phi * self.w\n",
    "        self.c2 = phi * self.w\n",
    "    \n",
    "    \n",
    "    def updatePosition(self):\n",
    "        self.position = list(map(determine,self.velocity))\n",
    "        \n",
    "        self.currValue = self.fitness_func(self.graph, self.position)\n",
    "        if self.currValue < self.bestValue:\n",
    "            self.bestValue = self.currValue\n",
    "            self.bestPosition = np.array(self.position)\n",
    "            if self.currValue < Particle.globalBestValue:\n",
    "                Particle.globalBestValue = self.currValue\n",
    "                Particle.globalBestPosition = np.array(self.position)     \n",
    "        \n",
    "    def updateVelocity(self):\n",
    "        lower_bounds = np.array([x[0] for x in self.velocity_bounds])\n",
    "        upper_bounds = np.array([x[1] for x in self.velocity_bounds])\n",
    "        \n",
    "        \n",
    "        r1 = np.random.random(self.velocity.shape)\n",
    "        r2 = np.random.random(self.velocity.shape)\n",
    "        velocity = (self.w * self.velocity + r1 * self.c1 * (self.bestPosition - self.position) + r2 * self.c2 * (Particle.globalBestPosition - self.position)) \n",
    "        \n",
    "        self.velocity = np.clip(self.velocity, lower_bounds, upper_bounds)\n",
    "        \n",
    "    def mutation(self, mutation_prob):\n",
    "        for i in range(len(self.velocity)):\n",
    "            if random.random() < mutation_prob:\n",
    "                self.velocity[i] = -self.velocity[i]\n",
    "        "
   ]
  },
  {
   "cell_type": "code",
   "execution_count": 377,
   "id": "affiliated-display",
   "metadata": {},
   "outputs": [],
   "source": [
    "SWARM_SIZE = 50\n",
    "MAX_ITER = 500\n",
    "# phi uzima iz [2.01, 2.4]\n",
    "PHI = 2.07\n",
    "MUTATION_PROB = 0.1\n",
    "BOUNDS = (-4,4)\n",
    "\n",
    "def BinaryPSO(graph, swarm_size=SWARM_SIZE, iterations=MAX_ITER, phi = PHI, mutation=True, mut_prob=MUTATION_PROB, vel_bounds=BOUNDS):\n",
    "  \n",
    "    swarm = [Particle(graph, calculate_fitness_v2, phi, vel_bounds) for _ in range(swarm_size)]\n",
    "    \n",
    "    bestValues = []\n",
    "    for i in range(iterations):\n",
    "        for particle in swarm:\n",
    "            particle.updateVelocity()\n",
    "            if(mutation == True):\n",
    "                particle.mutation(mut_prob)\n",
    "            \n",
    "            particle.updatePosition()\n",
    "    \n",
    "        bestValues.append(Particle.globalBestValue)\n",
    "    \n",
    "    print(f'Solution: {Particle.globalBestPosition}, value: {Particle.globalBestValue}')\n",
    "\n",
    "    mmm_found = from_binary_to_list_of_edges(graph, Particle.globalBestPosition)\n",
    "    print(f'Minimum maximal matching found: {mmm_found}')\n",
    "    plt.plot(range(iterations), bestValues)\n",
    "    \n",
    "    Particle.globalBestPosition = None\n",
    "    Particle.globalBestValue = None\n",
    "    return mmm_found\n",
    "    "
   ]
  },
  {
   "cell_type": "code",
   "execution_count": 378,
   "id": "capable-prompt",
   "metadata": {},
   "outputs": [
    {
     "name": "stdout",
     "output_type": "stream",
     "text": [
      "Solution: [1 0 0 0 0 0 1 0], value: 2\n",
      "Minimum maximal matching found: ['AB', 'DF']\n"
     ]
    },
    {
     "data": {
      "text/plain": [
       "['AB', 'DF']"
      ]
     },
     "execution_count": 378,
     "metadata": {},
     "output_type": "execute_result"
    },
    {
     "data": {
      "image/png": "[encoded data removed]",
      "text/plain": [
       "<Figure size 432x288 with 1 Axes>"
      ]
     },
     "metadata": {
      "needs_background": "light"
     },
     "output_type": "display_data"
    }
   ],
   "source": [
    "BinaryPSO(g, swarm_size=5, iterations=10)"
   ]
  },
  {
   "cell_type": "code",
   "execution_count": 379,
   "id": "miniature-direction",
   "metadata": {},
   "outputs": [],
   "source": [
    "def random_graph_generator(a,b):\n",
    "    number_of_vertices = random.randint(a,b)\n",
    "    print(f\"Number of vertices = {number_of_vertices}\")\n",
    "    random_graph = Graph(number_of_vertices)\n",
    "    # n*(n-1) / 2\n",
    "    number_of_edges = random.randint(1, number_of_vertices*(number_of_vertices-1)/2)\n",
    "    possible_vertices = [chr(i) for i in range(ord('A'), ord('A') + number_of_vertices)]\n",
    "    \n",
    "    for i in range(number_of_edges):\n",
    "        random_edge = ''.join(random.choices(possible_vertices, k=2))\n",
    "        random_graph.add_edge(random_edge)\n",
    "    \n",
    "    #random_graph.print_graph()\n",
    "    return random_graph, number_of_vertices"
   ]
  },
  {
   "cell_type": "code",
   "execution_count": 380,
   "id": "strategic-scholarship",
   "metadata": {},
   "outputs": [],
   "source": [
    "def erdos_renyi_random_graph(a,b, p=0.5):\n",
    "    num_of_vertices = random.randint(a,b)\n",
    "    random_graph = Graph(num_of_vertices)\n",
    "    \n",
    "    for i in range(num_of_vertices):\n",
    "        for j in range(num_of_vertices):\n",
    "            if i != j:\n",
    "                r = random.uniform(0,1)\n",
    "                if r <= p:\n",
    "                    vertex1 = get_key(random_graph.vertex_indices,i)\n",
    "                    vertex2 = get_key(random_graph.vertex_indices,j)\n",
    "                    edge = vertex1 + vertex2\n",
    "                    random_graph.add_edge(edge)\n",
    "    \n",
    "    #random_graph.print_graph()\n",
    "    return random_graph   "
   ]
  },
  {
   "cell_type": "code",
   "execution_count": 381,
   "id": "shaped-tuition",
   "metadata": {},
   "outputs": [
    {
     "data": {
      "image/png": "[encoded data removed]",
      "text/plain": [
       "<Figure size 432x288 with 1 Axes>"
      ]
     },
     "metadata": {},
     "output_type": "display_data"
    }
   ],
   "source": [
    "er_random_graph = erdos_renyi_random_graph(5,10, p=0.3)\n",
    "er_random_graph.draw_graph()"
   ]
  },
  {
   "cell_type": "code",
   "execution_count": 387,
   "id": "temporal-seller",
   "metadata": {},
   "outputs": [
    {
     "name": "stdout",
     "output_type": "stream",
     "text": [
      "Number of vertices = 66\n",
      "Number of edges = 1328\n",
      "Edge density = 0.6191142191142192\n"
     ]
    }
   ],
   "source": [
    "random_graph, V = random_graph_generator(30,70)\n",
    "E = len(random_graph.get_edges())\n",
    "print(f\"Number of edges = {E}\")\n",
    "d = 2*E /(V * (V-1))\n",
    "print(f\"Edge density = {d}\")"
   ]
  },
  {
   "cell_type": "code",
   "execution_count": 388,
   "id": "lovely-workshop",
   "metadata": {},
   "outputs": [
    {
     "name": "stdout",
     "output_type": "stream",
     "text": [
      "{'ef', 'ln', 'ST', 'MP', '{|', 'JN', 'CD', 'tu', 'XZ', '\\\\_', 'UY', 'ad', 'LO', 'QR', 'jm', 'vw', 'ik', 'gh', 'pr', '[]', '}~', 'oq', 'IK', '`c', 'EF', 'AB', 'GH', 'sy', '\\x7f\\x81', 'xz', '^b', 'VW'}\n",
      "32\n",
      "True\n"
     ]
    }
   ],
   "source": [
    "#mmm = mmm_brute_force(random_graph)\n",
    "#print(mmm)\n",
    "#print(len(mmm))\n",
    "\n",
    "mmm_aprox_1 = greedy_2_approximation(random_graph)\n",
    "print(mmm_aprox_1)\n",
    "print(len(mmm_aprox_1))\n",
    "print(is_maximal_matching(random_graph, mmm_aprox_1))"
   ]
  },
  {
   "cell_type": "code",
   "execution_count": 389,
   "id": "prescription-emergency",
   "metadata": {},
   "outputs": [
    {
     "name": "stdout",
     "output_type": "stream",
     "text": [
      "Solution: [0 0 0 ... 0 0 0], value: 31\n",
      "Minimum maximal matching found: ['Am', 'B`', 'CE', 'D\\x82', 'F[', 'GJ', 'HV', 'IN', 'Kf', 'Lr', 'My', 'Oj', 'Ps', 'QX', 'RU', 'SW', 'Tu', 'Y_', '\\\\t', ']a', '^|', 'b~', 'co', 'ev', 'gq', 'h\\x80', 'in', 'kl', 'xz', '{\\x7f', '}\\x81']\n",
      "True\n"
     ]
    },
    {
     "data": {
      "image/png": "[encoded data removed]",
      "text/plain": [
       "<Figure size 432x288 with 1 Axes>"
      ]
     },
     "metadata": {
      "needs_background": "light"
     },
     "output_type": "display_data"
    }
   ],
   "source": [
    "mmm_found = BinaryPSO(random_graph)\n",
    "print(is_maximal_matching(random_graph, mmm_found))"
   ]
  },
  {
   "cell_type": "code",
   "execution_count": 330,
   "id": "wicked-defense",
   "metadata": {},
   "outputs": [],
   "source": [
    "#random_graph.draw_graph()"
   ]
  },
  {
   "cell_type": "code",
   "execution_count": 331,
   "id": "direct-perception",
   "metadata": {},
   "outputs": [],
   "source": [
    "# genotype-phenotype concept\n",
    "class ModifiedParticle:\n",
    "    globalBestPhenotype = None\n",
    "    globalBestValue = None\n",
    "     \n",
    "    def __init__(self, graph, fitness_func, phi, genotype_bounds):\n",
    "        \n",
    "        self.graph = graph\n",
    "        self.fitness_func = fitness_func\n",
    "    \n",
    "        pos = []\n",
    "        for i in range(len(self.graph.get_edges())):\n",
    "            pos.append(random.randint(0,1))\n",
    "                \n",
    "        self.phenotype = np.array(pos)\n",
    "        self.genotype = np.zeros(len(self.phenotype))\n",
    "        self.velocity = np.zeros(len(self.phenotype))\n",
    "        self.currValue = self.fitness_func(self.graph, self.phenotype)                     \n",
    "        self.bestPhenotype = np.array(self.phenotype)\n",
    "        self.bestValue = self.currValue\n",
    "                             \n",
    "        if ModifiedParticle.globalBestValue is None or self.currValue < ModifiedParticle.globalBestValue:\n",
    "            ModifiedParticle.globalBestPhenotype = np.array(self.phenotype)\n",
    "            ModifiedParticle.globalBestValue = self.currValue     \n",
    "        \n",
    "        self.genotype_bounds = [genotype_bounds for pos in self.phenotype]\n",
    "        self.w = 1 / ((phi - 1) + math.sqrt(phi**2 - 2*phi))\n",
    "        self.c1 = phi * self.w\n",
    "        self.c2 = phi * self.w\n",
    "    \n",
    "    \n",
    "    def updatePhenotype(self):\n",
    "        self.phenotype = list(map(determine, self.genotype))\n",
    "        \n",
    "        self.currValue = self.fitness_func(self.graph, self.phenotype)\n",
    "        if self.currValue < self.bestValue:\n",
    "            self.bestValue = self.currValue\n",
    "            self.bestPhenotype = np.array(self.phenotype)\n",
    "            if self.currValue < ModifiedParticle.globalBestValue:\n",
    "                ModifiedParticle.globalBestValue = self.currValue\n",
    "                ModifiedParticle.globalBestPhenotype = np.array(self.phenotype)     \n",
    "        \n",
    "    def updateVelocity(self):    \n",
    "        r1 = np.random.random(self.velocity.shape)\n",
    "        r2 = np.random.random(self.velocity.shape)\n",
    "        self.velocity = (self.w * self.velocity + r1 * self.c1 * (self.bestPhenotype - self.phenotype) + r2 * self.c2 * (ModifiedParticle.globalBestPhenotype - self.phenotype)) \n",
    "        \n",
    "   \n",
    "    def updateGenotype(self):\n",
    "        lower_bounds = np.array([x[0] for x in self.genotype_bounds])\n",
    "        upper_bounds = np.array([x[1] for x in self.genotype_bounds])\n",
    "        \n",
    "        self.genotype = np.clip(self.genotype+self.velocity, lower_bounds, upper_bounds)\n",
    "          \n",
    "        \n",
    "    def mutation(self, mutation_prob):\n",
    "        for i in range(len(self.genotype)):\n",
    "            if random.random() < mutation_prob:\n",
    "                self.genotype[i] = -self.genotype[i]\n",
    "\n"
   ]
  },
  {
   "cell_type": "code",
   "execution_count": 332,
   "id": "premier-maker",
   "metadata": {},
   "outputs": [],
   "source": [
    "SWARM_SIZE = 50\n",
    "MAX_ITER = 500\n",
    "# phi uzima iz [2.01, 2.4]\n",
    "PHI = 2.07\n",
    "MUTATION_PROB = 0.1\n",
    "BOUNDS = (-4,4)\n",
    "\n",
    "def ModifiedBinaryPSO(graph, swarm_size=SWARM_SIZE, iterations=MAX_ITER, phi = PHI, mutation=True, mut_prob=MUTATION_PROB, gen_bounds=BOUNDS):\n",
    "  \n",
    "    swarm = [ModifiedParticle(graph, calculate_fitness_v2, phi, gen_bounds) for _ in range(swarm_size)]\n",
    "    \n",
    "    bestValues = []\n",
    "    for i in range(iterations):\n",
    "        for particle in swarm:\n",
    "            particle.updateVelocity()\n",
    "            particle.updateGenotype()\n",
    "            \n",
    "            if(mutation == True):\n",
    "                particle.mutation(mut_prob)\n",
    "            \n",
    "            particle.updatePhenotype()\n",
    "    \n",
    "        bestValues.append(ModifiedParticle.globalBestValue)\n",
    "    \n",
    "    print(f'Solution: {ModifiedParticle.globalBestPhenotype}, value: {ModifiedParticle.globalBestValue}')\n",
    "\n",
    "    mmm_found = from_binary_to_list_of_edges(graph, ModifiedParticle.globalBestPhenotype)\n",
    "    print(f'Minimum maximal matching found: {mmm_found}')\n",
    "    plt.plot(range(iterations), bestValues)\n",
    "    \n",
    "    ModifiedParticle.globalBestPhenotype = None\n",
    "    ModifiedParticle.globalBestValue = None\n",
    "    return mmm_found"
   ]
  },
  {
   "cell_type": "code",
   "execution_count": 390,
   "id": "healthy-handle",
   "metadata": {},
   "outputs": [
    {
     "name": "stdout",
     "output_type": "stream",
     "text": [
      "Solution: [0 0 0 ... 0 0 0], value: 31\n",
      "Minimum maximal matching found: ['Aq', 'BV', 'Ci', 'Ez', 'Fw', 'Gl', 'Id', 'JN', 'Ku', 'L`', 'MX', 'PQ', 'R\\x82', 'Ss', 'Tm', 'Ut', 'Wp', 'Y_', 'Z~', '[c', '\\\\g', ']{', '^r', 'a}', 'bv', 'ef', 'h\\x7f', 'j|', 'kx', 'n\\x80', 'oy']\n",
      "True\n"
     ]
    },
    {
     "data": {
      "image/png": "[encoded data removed]",
      "text/plain": [
       "<Figure size 432x288 with 1 Axes>"
      ]
     },
     "metadata": {
      "needs_background": "light"
     },
     "output_type": "display_data"
    }
   ],
   "source": [
    "mmm_found_modified = ModifiedBinaryPSO(random_graph)\n",
    "print(is_maximal_matching(random_graph, mmm_found_modified))"
   ]
  },
  {
   "cell_type": "code",
   "execution_count": 334,
   "id": "mineral-copyright",
   "metadata": {},
   "outputs": [],
   "source": [
    "# local best implementacija\n",
    "class ParticleV2:\n",
    "    \n",
    "    def __init__(self, pso_instance, index, fitness_func, phi, velocity_bounds):\n",
    "        \n",
    "        self.pso_instance = pso_instance\n",
    "        self.fitness_func = fitness_func\n",
    "        self.index = index\n",
    "    \n",
    "        pos = []\n",
    "        for i in range(len(self.pso_instance.graph.get_edges())):\n",
    "            pos.append(random.randint(0,1))\n",
    "                \n",
    "        self.position = np.array(pos)\n",
    "        self.velocity = np.zeros(len(self.position))\n",
    "        self.currValue = self.fitness_func(self.pso_instance.graph, self.position)                     \n",
    "        self.bestPosition = np.array(self.position)\n",
    "        self.bestValue = self.currValue\n",
    "                          \n",
    "        self.velocity_bounds = [velocity_bounds for pos in self.position]\n",
    "        self.w = 1 / ((phi - 1) + math.sqrt(phi**2 - 2*phi))\n",
    "        self.c1 = phi * self.w\n",
    "        self.c2 = phi * self.w\n",
    "    \n",
    "    \n",
    "    def updatePosition(self):\n",
    "        self.position = list(map(determine,self.velocity))\n",
    "        \n",
    "        self.currValue = self.fitness_func(self.pso_instance.graph, self.position)\n",
    "        if self.currValue < self.bestValue:\n",
    "            self.bestValue = self.currValue\n",
    "            self.bestPosition = np.array(self.position)    \n",
    "        \n",
    "    def updateVelocity(self):\n",
    "        lower_bounds = np.array([x[0] for x in self.velocity_bounds])\n",
    "        upper_bounds = np.array([x[1] for x in self.velocity_bounds])\n",
    "        \n",
    "        \n",
    "        r1 = np.random.random(self.velocity.shape)\n",
    "        r2 = np.random.random(self.velocity.shape)\n",
    "        velocity = (self.w * self.velocity +\n",
    "                    r1 * self.c1 * (self.bestPosition - self.position) +\n",
    "                    r2 * self.c2 * (self.pso_instance.best_found_position_in_every_neighbourhood[self.index][0] - self.position)) \n",
    "        \n",
    "        self.velocity = np.clip(self.velocity, lower_bounds, upper_bounds)\n",
    "        \n",
    "    def mutation(self, mutation_prob):\n",
    "        for i in range(len(self.velocity)):\n",
    "            if random.random() < mutation_prob:\n",
    "                self.velocity[i] = -self.velocity[i]\n",
    "                \n",
    "    #def updateWeights(self):\n",
    "    #    # 0.9 ----> 0.4\n",
    "    #    self.w -= 0.1\n",
    "    #    new_value = random.uniform(1.2, 2)\n",
    "    #    self.c1 = new_value\n",
    "    #    self.c2 = new_value\n",
    "\n"
   ]
  },
  {
   "cell_type": "code",
   "execution_count": 335,
   "id": "foster-uruguay",
   "metadata": {},
   "outputs": [],
   "source": [
    "#WEIGHTS = [0.9, 2.0, 2.0]\n",
    "class LocalBPSO:\n",
    "    def __init__(self, graph, topology='ring', swarm_size=SWARM_SIZE, phi = PHI, vel_bounds=BOUNDS):\n",
    "        self.graph = graph\n",
    "        self.topology = topology\n",
    "        self.swarm_size = swarm_size    \n",
    "        self.swarm = [ParticleV2(self, i, calculate_fitness_v2, phi, vel_bounds) for i in range(swarm_size)]\n",
    "        \n",
    "        self.initialize_neighbourhoods()\n",
    "        self.find_best_in_neighbourhoods()\n",
    "    \n",
    "    def initialize_neighbourhoods(self):\n",
    "        n = self.swarm_size\n",
    "        \n",
    "        if self.topology not in (\"von_neumann\", \"ring\"):\n",
    "            raise Exception(f\"Unknown topology {self.topology}\")\n",
    "    \n",
    "        # levi i desni sused \n",
    "        elif self.topology == \"ring\":\n",
    "            self.neighbourhoods = np.zeros((n, 3), dtype=int)\n",
    "            for i in range(n):\n",
    "                self.neighbourhoods[i] = [(i-1)%n, i, (i+1)%n]\n",
    "        \n",
    "        #redom: gornji, donji, desni, levi sused\n",
    "        elif self.topology == \"von_neumann\":\n",
    "            n_sqrt = int(np.sqrt(n))\n",
    "            if not n_sqrt**2 == n:\n",
    "                raise Exception(f\"Invalid swarm_size for Von Neumann topology: {n}\")\n",
    "            self.neighbourhoods = np.zeros((n, 5), dtype=int)   \n",
    "            for i in range(n):\n",
    "                self.neighbourhoods[i] = [i,                                            \n",
    "                    (i - n_sqrt) % n,                              \n",
    "                    (i + n_sqrt) % n,                              \n",
    "                    ((i // n_sqrt) * n_sqrt) + ((i + 1) % n_sqrt),  \n",
    "                    ((i // n_sqrt) * n_sqrt) + ((i - 1) % n_sqrt)   \n",
    "                    ]\n",
    "                \n",
    "    def find_best_in_neighbourhoods(self):\n",
    "        self.best_found_position_in_every_neighbourhood = []\n",
    "        for ngh in self.neighbourhoods:\n",
    "            best_value = math.inf\n",
    "            best_position = np.array([])\n",
    "            for i in ngh:\n",
    "                if self.swarm[i].bestValue < best_value:\n",
    "                    best_value = self.swarm[i].bestValue\n",
    "                    best_position = np.array(self.swarm[i].bestPosition)\n",
    "            self.best_found_position_in_every_neighbourhood.append((best_position, best_value))\n",
    "        \n",
    "    def optimize(self,iterations=MAX_ITER, mutation=True, mut_prob=MUTATION_PROB):\n",
    "        \n",
    "        bestValues = []\n",
    "        values = [b for (a,b) in self.best_found_position_in_every_neighbourhood]\n",
    "        bestValues.append(min(values))\n",
    "           \n",
    "        for i in range(iterations):\n",
    "            for particle in self.swarm:\n",
    "                particle.updateVelocity()\n",
    "                \n",
    "                if(mutation == True):\n",
    "                    particle.mutation(mut_prob)\n",
    "                    \n",
    "                particle.updatePosition()  \n",
    "                \n",
    "               # if i % (iterations // 6) == 0:\n",
    "               #     particle.updateWeights()\n",
    "                \n",
    "            \n",
    "            self.find_best_in_neighbourhoods()\n",
    "            bestValues.append(min([b for (a,b) in self.best_found_position_in_every_neighbourhood]))\n",
    "    \n",
    "        \n",
    "        # najmanja vrednost u svim susedstvima\n",
    "        ind = np.argmin([b for (a,b) in self.best_found_position_in_every_neighbourhood])\n",
    "        best_position = self.best_found_position_in_every_neighbourhood[ind][0]\n",
    "        print(f'Solution: {best_position}, value: {min([b for (a,b) in self.best_found_position_in_every_neighbourhood])}')\n",
    "\n",
    "        mmm_found = from_binary_to_list_of_edges(self.graph, best_position)\n",
    "        print(f'Minimum maximal matching found: {mmm_found}')\n",
    "        plt.plot(range(iterations+1), bestValues)\n",
    "        return mmm_found             "
   ]
  },
  {
   "cell_type": "code",
   "execution_count": 352,
   "id": "grateful-poker",
   "metadata": {
    "scrolled": true
   },
   "outputs": [
    {
     "name": "stdout",
     "output_type": "stream",
     "text": [
      "Solution: [1 0 0 0 0 0 1 0], value: 2\n",
      "Minimum maximal matching found: ['AB', 'DF']\n",
      "True\n"
     ]
    },
    {
     "data": {
      "image/png": "[encoded data removed]",
      "text/plain": [
       "<Figure size 432x288 with 1 Axes>"
      ]
     },
     "metadata": {
      "needs_background": "light"
     },
     "output_type": "display_data"
    }
   ],
   "source": [
    "mmm_lbest = LocalBPSO(g, swarm_size=5).optimize(iterations=10)\n",
    "print(is_maximal_matching(g, mmm_lbest))"
   ]
  },
  {
   "cell_type": "code",
   "execution_count": 391,
   "id": "faced-produce",
   "metadata": {
    "scrolled": true
   },
   "outputs": [
    {
     "name": "stdout",
     "output_type": "stream",
     "text": [
      "Solution: [0 0 0 ... 0 0 0], value: 30\n",
      "Minimum maximal matching found: ['AR', 'BJ', 'C{', 'DT', 'E\\x80', 'Fh', 'HQ', 'Il', 'K[', 'Ly', 'Mt', 'Nk', 'OZ', 'Pi', 'S`', 'Uu', 'VW', 'Xa', 'Y\\x82', '\\\\\\x81', ']e', '^g', '_\\x7f', 'b}', 'dm', 'jz', 'o~', 'ps', 'qw', 'x|']\n",
      "True\n"
     ]
    },
    {
     "data": {
      "image/png": "[encoded data removed]",
      "text/plain": [
       "<Figure size 432x288 with 1 Axes>"
      ]
     },
     "metadata": {
      "needs_background": "light"
     },
     "output_type": "display_data"
    }
   ],
   "source": [
    "mmm_lbest_ring = LocalBPSO(random_graph).optimize()\n",
    "print(is_maximal_matching(random_graph, mmm_lbest_ring))"
   ]
  },
  {
   "cell_type": "code",
   "execution_count": 392,
   "id": "crucial-collapse",
   "metadata": {},
   "outputs": [
    {
     "name": "stdout",
     "output_type": "stream",
     "text": [
      "Solution: [0 0 0 ... 0 0 0], value: 31\n",
      "Minimum maximal matching found: ['At', 'BW', 'CX', 'D\\\\', 'Ep', 'F\\x80', 'G\\x7f', 'HS', 'I{', 'Jx', 'Kj', 'L_', 'Nq', 'PZ', 'Q^', 'Rw', 'Tg', 'U\\x81', 'Vu', 'Y}', '[|', ']a', '`e', 'bo', 'cz', 'fs', 'h~', 'ik', 'ln', 'mr', 'vy']\n",
      "True\n"
     ]
    },
    {
     "data": {
      "image/png": "[encoded data removed]",
      "text/plain": [
       "<Figure size 432x288 with 1 Axes>"
      ]
     },
     "metadata": {
      "needs_background": "light"
     },
     "output_type": "display_data"
    }
   ],
   "source": [
    "mmm_lbest_von_neumann = LocalBPSO(random_graph, topology=\"von_neumann\", swarm_size=49).optimize()\n",
    "print(is_maximal_matching(random_graph, mmm_lbest_von_neumann))"
   ]
  },
  {
   "cell_type": "code",
   "execution_count": 339,
   "id": "vocal-sleeve",
   "metadata": {},
   "outputs": [],
   "source": [
    "from docplex.mp.model import Model"
   ]
  },
  {
   "cell_type": "code",
   "execution_count": 345,
   "id": "controlled-station",
   "metadata": {},
   "outputs": [],
   "source": [
    "def ILP_MMM(graph):\n",
    "    model = Model('mmm')\n",
    "\n",
    "    model.set_time_limit(100)\n",
    "    \n",
    "    \n",
    "    dim = len(graph.vertices)\n",
    "    x = model.binary_var_matrix(dim, dim, name = 'x' )\n",
    "    \n",
    "    adj_matrix = graph.adj_matrix\n",
    "    for i in range(dim):\n",
    "        for j in range(dim):\n",
    "            if adj_matrix[i][j] == 0 or i==j:\n",
    "                model.add_constraint(x[i,j]==0)\n",
    "            else:\n",
    "                model.add_constraint(x[i,j] == x[j,i])\n",
    "    \n",
    "    model.add_constraints([sum([x[i,j] for j in range(dim)]) <= 1 for i in range(dim)])\n",
    "   \n",
    "    for i in range(dim):\n",
    "        for j in range(dim):\n",
    "            if adj_matrix[i][j] == 1:\n",
    "                model.add_constraint(x[i,j] + sum([x[i,k] for k in range(dim) if k!=j]) + sum([x[k,j] for k in range(dim) if k!=i]) >= 1)\n",
    "    \n",
    "\n",
    "    model.minimize(sum(x[i,j] for i in range(dim) for j in range(dim)))\n",
    "    \n",
    "    s = model.solve() \n",
    "    s.display()\n",
    "    "
   ]
  },
  {
   "cell_type": "code",
   "execution_count": 341,
   "id": "direct-graphics",
   "metadata": {},
   "outputs": [
    {
     "name": "stdout",
     "output_type": "stream",
     "text": [
      "solution for: mmm\n",
      "objective: 4\n",
      "x_0_1 = 1\n",
      "x_1_0 = 1\n",
      "x_3_5 = 1\n",
      "x_5_3 = 1\n"
     ]
    }
   ],
   "source": [
    "ILP_MMM(g)"
   ]
  },
  {
   "cell_type": "code",
   "execution_count": 393,
   "id": "acquired-voice",
   "metadata": {},
   "outputs": [
    {
     "name": "stdout",
     "output_type": "stream",
     "text": [
      "solution for: mmm\n",
      "objective: 60\n",
      "x_0_45 = 1\n",
      "x_1_5 = 1\n",
      "x_2_49 = 1\n",
      "x_3_12 = 1\n",
      "x_4_50 = 1\n",
      "x_5_1 = 1\n",
      "x_6_46 = 1\n",
      "x_7_24 = 1\n",
      "x_10_54 = 1\n",
      "x_11_44 = 1\n",
      "x_12_3 = 1\n",
      "x_13_40 = 1\n",
      "x_14_37 = 1\n",
      "x_15_38 = 1\n",
      "x_16_64 = 1\n",
      "x_19_62 = 1\n",
      "x_20_47 = 1\n",
      "x_21_52 = 1\n",
      "x_22_26 = 1\n",
      "x_23_36 = 1\n",
      "x_24_7 = 1\n",
      "x_25_39 = 1\n",
      "x_26_22 = 1\n",
      "x_27_28 = 1\n",
      "x_28_27 = 1\n",
      "x_29_55 = 1\n",
      "x_30_65 = 1\n",
      "x_31_42 = 1\n",
      "x_33_35 = 1\n",
      "x_34_41 = 1\n",
      "x_35_33 = 1\n",
      "x_36_23 = 1\n",
      "x_37_14 = 1\n",
      "x_38_15 = 1\n",
      "x_39_25 = 1\n",
      "x_40_13 = 1\n",
      "x_41_34 = 1\n",
      "x_42_31 = 1\n",
      "x_43_53 = 1\n",
      "x_44_11 = 1\n",
      "x_45_0 = 1\n",
      "x_46_6 = 1\n",
      "x_47_20 = 1\n",
      "x_49_2 = 1\n",
      "x_50_4 = 1\n",
      "x_51_60 = 1\n",
      "x_52_21 = 1\n",
      "x_53_43 = 1\n",
      "x_54_10 = 1\n",
      "x_55_29 = 1\n",
      "x_56_57 = 1\n",
      "x_57_56 = 1\n",
      "x_58_59 = 1\n",
      "x_59_58 = 1\n",
      "x_60_51 = 1\n",
      "x_61_63 = 1\n",
      "x_62_19 = 1\n",
      "x_63_61 = 1\n",
      "x_64_16 = 1\n",
      "x_65_30 = 1\n"
     ]
    }
   ],
   "source": [
    "# vraca 2 * broj grana u mmm (neusmeren graf, matrica povezanosti je simetricna)\n",
    "ILP_MMM(random_graph)"
   ]
  },
  {
   "cell_type": "code",
   "execution_count": 343,
   "id": "meaningful-opinion",
   "metadata": {},
   "outputs": [],
   "source": [
    "#for i in range(20):\n",
    "#    random_graph, V = random_graph_generator(30,70)\n",
    "#    E = len(random_graph.get_edges())\n",
    "#    print(f\"Number of edges = {E}\")\n",
    "#    d = 2*E /(V * (V-1))\n",
    "#    print(f\"Edge density = {d}\")\n",
    "    \n",
    "#    mmm_aprox_1 = greedy_2_approximation(random_graph)\n",
    "#    print(len(mmm_aprox_1))\n",
    "    \n",
    "#    ILP_MMM(random_graph)\n",
    "    \n",
    "#    print('---------------------------------')    \n",
    "    "
   ]
  },
  {
   "cell_type": "code",
   "execution_count": 347,
   "id": "indian-suspension",
   "metadata": {},
   "outputs": [],
   "source": [
    "#for i in range(20):\n",
    "#    random_graph = erdos_renyi_random_graph(30,70, p=0.8)\n",
    "#    V = len(random_graph.vertices)\n",
    "#    print(f\"Number of vertices = {V}\")\n",
    "#    E = len(random_graph.get_edges())\n",
    "#    print(f\"Number of edges = {E}\")\n",
    "    \n",
    "        \n",
    "#    mmm_2_aprox = greedy_2_approximation(random_graph)\n",
    "#    print(mmm_2_aprox)\n",
    "#    print(len(mmm_2_aprox))\n",
    "#    print(is_maximal_matching(random_graph, mmm_2_aprox))\n",
    "       \n",
    "#    mmm_found_bpso = BinaryPSO(random_graph)\n",
    "#    print(is_maximal_matching(random_graph, mmm_found_bpso))\n",
    "    \n",
    "#    mmm_found_modified = ModifiedBinaryPSO(random_graph)\n",
    "#    print(is_maximal_matching(random_graph, mmm_found_modified))\n",
    "    \n",
    "#    mmm_lbest_ring = LocalBPSO(random_graph).optimize()\n",
    "#    print(is_maximal_matching(random_graph, mmm_lbest_ring))\n",
    "    \n",
    "#    mmm_lbest_von_neumann = LocalBPSO(random_graph, topology=\"von_neumann\", swarm_size=49).optimize()\n",
    "#    print(is_maximal_matching(random_graph, mmm_lbest_von_neumann))\n",
    "    \n",
    "#    ILP_MMM(random_graph)\n",
    "#    print('--------------------------------------------------------------------------------------------')"
   ]
  },
  {
   "cell_type": "code",
   "execution_count": null,
   "id": "lonely-enemy",
   "metadata": {},
   "outputs": [],
   "source": []
  }
 ],
 "metadata": {
  "kernelspec": {
   "display_name": "Python 3",
   "language": "python",
   "name": "python3"
  },
  "language_info": {
   "codemirror_mode": {
    "name": "ipython",
    "version": 3
   },
   "file_extension": ".py",
   "mimetype": "text/x-python",
   "name": "python",
   "nbconvert_exporter": "python",
   "pygments_lexer": "ipython3",
   "version": "3.8.6"
  }
 },
 "nbformat": 4,
 "nbformat_minor": 5
}
